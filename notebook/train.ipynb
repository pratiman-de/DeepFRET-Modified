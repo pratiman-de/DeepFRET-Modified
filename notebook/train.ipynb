{
 "cells": [
  {
   "cell_type": "code",
   "execution_count": 1,
   "metadata": {},
   "outputs": [
    {
     "name": "stderr",
     "output_type": "stream",
     "text": [
      "2024-07-31 12:21:37.327231: I tensorflow/core/util/port.cc:113] oneDNN custom operations are on. You may see slightly different numerical results due to floating-point round-off errors from different computation orders. To turn them off, set the environment variable `TF_ENABLE_ONEDNN_OPTS=0`.\n",
      "2024-07-31 12:21:37.351834: E external/local_xla/xla/stream_executor/cuda/cuda_dnn.cc:9261] Unable to register cuDNN factory: Attempting to register factory for plugin cuDNN when one has already been registered\n",
      "2024-07-31 12:21:37.351853: E external/local_xla/xla/stream_executor/cuda/cuda_fft.cc:607] Unable to register cuFFT factory: Attempting to register factory for plugin cuFFT when one has already been registered\n",
      "2024-07-31 12:21:37.352634: E external/local_xla/xla/stream_executor/cuda/cuda_blas.cc:1515] Unable to register cuBLAS factory: Attempting to register factory for plugin cuBLAS when one has already been registered\n",
      "2024-07-31 12:21:37.356978: I tensorflow/core/platform/cpu_feature_guard.cc:182] This TensorFlow binary is optimized to use available CPU instructions in performance-critical operations.\n",
      "To enable the following instructions: AVX2 AVX512F AVX512_VNNI FMA, in other operations, rebuild TensorFlow with the appropriate compiler flags.\n",
      "2024-07-31 12:21:37.814902: W tensorflow/compiler/tf2tensorrt/utils/py_utils.cc:38] TF-TRT Warning: Could not find TensorRT\n",
      "2024-07-31 12:21:38.364273: I external/local_xla/xla/stream_executor/cuda/cuda_executor.cc:901] successful NUMA node read from SysFS had negative value (-1), but there must be at least one NUMA node, so returning NUMA node zero. See more at https://github.com/torvalds/linux/blob/v6.0/Documentation/ABI/testing/sysfs-bus-pci#L344-L355\n",
      "2024-07-31 12:21:38.385128: I external/local_xla/xla/stream_executor/cuda/cuda_executor.cc:901] successful NUMA node read from SysFS had negative value (-1), but there must be at least one NUMA node, so returning NUMA node zero. See more at https://github.com/torvalds/linux/blob/v6.0/Documentation/ABI/testing/sysfs-bus-pci#L344-L355\n",
      "2024-07-31 12:21:38.385305: I external/local_xla/xla/stream_executor/cuda/cuda_executor.cc:901] successful NUMA node read from SysFS had negative value (-1), but there must be at least one NUMA node, so returning NUMA node zero. See more at https://github.com/torvalds/linux/blob/v6.0/Documentation/ABI/testing/sysfs-bus-pci#L344-L355\n"
     ]
    }
   ],
   "source": [
    "import lib.ml\n",
    "import lib.utils\n",
    "import numpy as np\n",
    "import tensorflow as tf\n",
    "from tensorflow import keras\n",
    "from tensorflow.keras import layers, models\n",
    "from tensorflow.keras.models import Model\n",
    "from tensorflow.keras.layers import Input, LSTM, Dense, Attention, Concatenate, Bidirectional\n",
    "from tensorflow.keras.layers import LSTM, Dense, Input, Bidirectional, TimeDistributed\n",
    "from keras.callbacks import ModelCheckpoint, ReduceLROnPlateau, EarlyStopping\n",
    "from tensorflow.keras.losses import MeanSquaredError\n",
    "from datetime import datetime\n",
    "import os"
   ]
  },
  {
   "cell_type": "code",
   "execution_count": null,
   "metadata": {},
   "outputs": [],
   "source": [
    "physical_devices = tf.config.experimental.list_physical_devices('GPU')\n",
    "if len(physical_devices) > 0:\n",
    "    for device in physical_devices:\n",
    "        tf.config.experimental.set_memory_growth(device, True)"
   ]
  },
  {
   "cell_type": "code",
   "execution_count": 16,
   "metadata": {},
   "outputs": [],
   "source": [
    "# loading data\n",
    "data_id = str(np.load(\"data/data_id.npy\"))\n",
    "X = np.load('data/x_sim_'+data_id+'.npy')\n",
    "labels = np.load('data/y_sim_'+data_id+'.npy')\n",
    "set_y = set(labels.ravel())\n",
    "y = lib.ml.class_to_one_hot(labels, num_classes=len(set_y))\n",
    "y = lib.ml.smoothe_one_hot_labels(y, amount=0.1)\n",
    "X = X[..., 0:3]\n",
    "X = lib.utils.sample_max_normalize_3d(X)\n",
    "labels = None"
   ]
  },
  {
   "cell_type": "code",
   "execution_count": 19,
   "metadata": {},
   "outputs": [
    {
     "name": "stderr",
     "output_type": "stream",
     "text": [
      "2024-07-31 12:25:50.264390: I external/local_xla/xla/stream_executor/cuda/cuda_executor.cc:901] successful NUMA node read from SysFS had negative value (-1), but there must be at least one NUMA node, so returning NUMA node zero. See more at https://github.com/torvalds/linux/blob/v6.0/Documentation/ABI/testing/sysfs-bus-pci#L344-L355\n",
      "2024-07-31 12:25:50.264544: I external/local_xla/xla/stream_executor/cuda/cuda_executor.cc:901] successful NUMA node read from SysFS had negative value (-1), but there must be at least one NUMA node, so returning NUMA node zero. See more at https://github.com/torvalds/linux/blob/v6.0/Documentation/ABI/testing/sysfs-bus-pci#L344-L355\n",
      "2024-07-31 12:25:50.264623: I external/local_xla/xla/stream_executor/cuda/cuda_executor.cc:901] successful NUMA node read from SysFS had negative value (-1), but there must be at least one NUMA node, so returning NUMA node zero. See more at https://github.com/torvalds/linux/blob/v6.0/Documentation/ABI/testing/sysfs-bus-pci#L344-L355\n",
      "2024-07-31 12:25:50.314802: I external/local_xla/xla/stream_executor/cuda/cuda_executor.cc:901] successful NUMA node read from SysFS had negative value (-1), but there must be at least one NUMA node, so returning NUMA node zero. See more at https://github.com/torvalds/linux/blob/v6.0/Documentation/ABI/testing/sysfs-bus-pci#L344-L355\n",
      "2024-07-31 12:25:50.314923: I external/local_xla/xla/stream_executor/cuda/cuda_executor.cc:901] successful NUMA node read from SysFS had negative value (-1), but there must be at least one NUMA node, so returning NUMA node zero. See more at https://github.com/torvalds/linux/blob/v6.0/Documentation/ABI/testing/sysfs-bus-pci#L344-L355\n",
      "2024-07-31 12:25:50.315009: I external/local_xla/xla/stream_executor/cuda/cuda_executor.cc:901] successful NUMA node read from SysFS had negative value (-1), but there must be at least one NUMA node, so returning NUMA node zero. See more at https://github.com/torvalds/linux/blob/v6.0/Documentation/ABI/testing/sysfs-bus-pci#L344-L355\n",
      "2024-07-31 12:25:50.315068: I tensorflow/core/common_runtime/gpu/gpu_device.cc:1929] Created device /job:localhost/replica:0/task:0/device:GPU:0 with 21035 MB memory:  -> device: 0, name: NVIDIA GeForce RTX 3090, pci bus id: 0000:01:00.0, compute capability: 8.6\n"
     ]
    }
   ],
   "source": [
    "def create_lstm_model(n_features, regression):\n",
    "    inputs = Input(shape=(None, n_features))\n",
    "\n",
    "    x = Bidirectional(LSTM(units=128, return_sequences=True))(inputs)\n",
    "    x = Bidirectional(LSTM(units=64, return_sequences=True))(x)\n",
    "    final = x\n",
    "\n",
    "    if regression:\n",
    "        outputs = TimeDistributed(Dense(1, activation=None))(final)\n",
    "        metric = \"mse\"\n",
    "        loss = \"mse\"\n",
    "    else:\n",
    "        outputs = TimeDistributed(Dense(6, activation=\"softmax\"))(final)\n",
    "        metric = \"accuracy\"\n",
    "        loss = \"categorical_crossentropy\"\n",
    "\n",
    "    model = Model(inputs=inputs, outputs=outputs)\n",
    "    model.compile(loss=loss, optimizer=\"adam\", metrics=[metric])\n",
    "    return model\n",
    "\n",
    "def create_gru_model(n_features, regression):\n",
    "    inputs = Input(shape=(None, n_features))\n",
    "\n",
    "    x = Bidirectional(GRU(units=128, return_sequences=True))(inputs)\n",
    "    x = Bidirectional(GRU(units=64, return_sequences=True))(x)\n",
    "    final = x\n",
    "\n",
    "    if regression:\n",
    "        outputs = TimeDistributed(Dense(1, activation=None))(final)\n",
    "        metric = \"mse\"\n",
    "        loss = \"mse\"\n",
    "    else:\n",
    "        outputs = TimeDistributed(Dense(6, activation=\"softmax\"))(final)\n",
    "        metric = \"accuracy\"\n",
    "        loss = \"categorical_crossentropy\"\n",
    "\n",
    "    model = Model(inputs=inputs, outputs=outputs)\n",
    "    model.compile(loss=loss, optimizer=\"adam\", metrics=[metric])\n",
    "    return model\n",
    "\n",
    "model = create_lstm_model(n_features=X.shape[-1], regression=False)\n",
    "\n",
    "#to train with more data\n",
    "#model = tf.keras.models.load_model(model_path)\n",
    "\n",
    "'''\n",
    "if regression:\n",
    "    X = np.load('data/x_sim_'+data_id+'.npy')\n",
    "    y = np.load('data/y_sim_'+data_id+'.npy')\n",
    "'''"
   ]
  },
  {
   "cell_type": "code",
   "execution_count": 31,
   "metadata": {},
   "outputs": [
    {
     "name": "stdout",
     "output_type": "stream",
     "text": [
      "Epoch 1/5\n",
      "2/7 [=======>......................] - ETA: 0s - loss: 1.1284 - accuracy: 0.9322"
     ]
    },
    {
     "name": "stdout",
     "output_type": "stream",
     "text": [
      "7/7 [==============================] - 1s 114ms/step - loss: 1.1240 - accuracy: 0.9368 - val_loss: 1.1657 - val_accuracy: 0.9122 - lr: 2.4414e-07\n",
      "Epoch 2/5\n",
      "7/7 [==============================] - 1s 112ms/step - loss: 1.1240 - accuracy: 0.9368 - val_loss: 1.1657 - val_accuracy: 0.9122 - lr: 2.4414e-07\n",
      "Epoch 3/5\n",
      "7/7 [==============================] - ETA: 0s - loss: 1.1240 - accuracy: 0.9368\n",
      "Epoch 3: ReduceLROnPlateau reducing learning rate to 1.2207031829802872e-07.\n",
      "7/7 [==============================] - 1s 114ms/step - loss: 1.1240 - accuracy: 0.9368 - val_loss: 1.1657 - val_accuracy: 0.9122 - lr: 2.4414e-07\n",
      "Epoch 4/5\n",
      "7/7 [==============================] - 1s 115ms/step - loss: 1.1240 - accuracy: 0.9368 - val_loss: 1.1657 - val_accuracy: 0.9122 - lr: 1.2207e-07\n",
      "Epoch 5/5\n",
      "7/7 [==============================] - ETA: 0s - loss: 1.1240 - accuracy: 0.9368\n",
      "Epoch 5: ReduceLROnPlateau reducing learning rate to 6.103515914901436e-08.\n",
      "7/7 [==============================] - 1s 110ms/step - loss: 1.1240 - accuracy: 0.9368 - val_loss: 1.1657 - val_accuracy: 0.9122 - lr: 1.2207e-07\n"
     ]
    }
   ],
   "source": [
    "\n",
    "lr = 1e-3\n",
    "minimum_lr = 1e-8\n",
    "batch_size=24\n",
    "epochs=5\n",
    "\n",
    "reduce_lr = ReduceLROnPlateau(monitor=\"val_loss\",\n",
    "                                factor=0.5,\n",
    "                                min_delta=0.05,\n",
    "                                mode='min',  \n",
    "                                patience=2,\n",
    "                                min_lr=minimum_lr,\n",
    "                                verbose=1)\n",
    "\n",
    "early_stop = EarlyStopping(monitor=\"val_loss\",  # \"val_loss\"\n",
    "                            min_delta=0.05,\n",
    "                            mode='min',  # on acc has to go max\n",
    "                            patience=10,\n",
    "                            verbose=1)\n",
    "\n",
    "checkpoint = ModelCheckpoint(filepath='output/chk/fret_{epoch:02d}.keras',\n",
    "                                    monitor='val_loss',\n",
    "                                    save_weights_only=False,  \n",
    "                                    save_freq=1)  \n",
    "\n",
    "\n",
    "history = model.fit(X, y,epochs=epochs, batch_size=batch_size, validation_split=0.2, callbacks=[early_stop, reduce_lr, checkpoint])\n",
    "\n",
    "model.save(\"output/fret{data_id}.keras\")\n",
    "\n",
    "\n",
    "\n",
    "date = datetime.now().strftime(\"%d%H%M\")\n",
    "train_loss = history.history['loss']\n",
    "val_loss = history.history['val_loss']\n",
    "train_acc = history.history['accuracy']\n",
    "val_acc = history.history['val_accuracy']\n",
    "lr = history.history['lr']\n",
    "\n",
    "file_m = 'output' + \"/\" + \"metrics_\" + data_id +\".csv\"\n",
    "\n",
    "with open(file_m, 'w') as file:\n",
    "    file.write('Epoch\\tTrain_Loss\\tVal_Loss\\tTrain_Acc\\tVal_Acc\\tLR\\n')\n",
    "    min_len = min(len(train_loss), len(val_loss), len(train_acc), len(val_acc), len(lr))\n",
    "    for epoch in range(min_len):\n",
    "        file.write(f'{epoch+1}\\t{train_loss[epoch]}\\t{val_loss[epoch]}\\t{train_acc[epoch]}\\t{val_acc[epoch]}\\t{lr[epoch]}\\n')\n"
   ]
  }
 ],
 "metadata": {
  "kernelspec": {
   "display_name": "test",
   "language": "python",
   "name": "python3"
  },
  "language_info": {
   "codemirror_mode": {
    "name": "ipython",
    "version": 3
   },
   "file_extension": ".py",
   "mimetype": "text/x-python",
   "name": "python",
   "nbconvert_exporter": "python",
   "pygments_lexer": "ipython3",
   "version": "3.10.12"
  }
 },
 "nbformat": 4,
 "nbformat_minor": 2
}
