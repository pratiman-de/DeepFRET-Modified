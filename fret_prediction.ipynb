{
 "cells": [
  {
   "cell_type": "code",
   "execution_count": 1,
   "metadata": {},
   "outputs": [],
   "source": [
    "import os\n",
    "import glob\n",
    "import numpy as np\n",
    "from tqdm import tqdm, trange\n",
    "from scipy.signal import butter, filtfilt, savgol_filter\n",
    "import matplotlib.pyplot as plt\n",
    "from ipywidgets import interact\n",
    "import onnxruntime as ort\n",
    "import matplotlib.pyplot as plt\n",
    "from tqdm import trange\n",
    "import pandas as pd"
   ]
  },
  {
   "cell_type": "code",
   "execution_count": 2,
   "metadata": {},
   "outputs": [
    {
     "name": "stderr",
     "output_type": "stream",
     "text": [
      "100%|██████████████████████████████████████████| 64/64 [00:00<00:00, 525.83it/s]"
     ]
    },
    {
     "name": "stdout",
     "output_type": "stream",
     "text": [
      "(64, 800, 3)\n"
     ]
    },
    {
     "name": "stderr",
     "output_type": "stream",
     "text": [
      "\n"
     ]
    }
   ],
   "source": [
    "# extract data from txt file and store in a 3D array\n",
    "# the output array will have the shape (n_files, signal_length, channels)\n",
    "# the 3 channel values are following:\n",
    "# 1:Dem-Dexc   2:Aem-Dexc       3:E\n",
    "\n",
    "\n",
    "import numpy as np\n",
    "import os\n",
    "import glob\n",
    "from tqdm import tqdm\n",
    "import pandas as pd\n",
    "\n",
    "def extract_values_from_file(file_path):\n",
    "    with open(file_path, 'r') as file:\n",
    "        lines = file.readlines()\n",
    "    \n",
    "    # Skip the header lines until the actual data starts\n",
    "    data_start_index = 0\n",
    "    for i, line in enumerate(lines):\n",
    "        if line.strip().startswith(\"DemDexc\"):\n",
    "            data_start_index = i + 1\n",
    "            break\n",
    "    \n",
    "    # Extract Dem-Dexc, Aem-Dexc, and E values\n",
    "    values = []\n",
    "    for line in lines[data_start_index:]:\n",
    "        parts = line.split()\n",
    "        if len(parts) >= 3:  # Ensure there are at least three columns of data\n",
    "            dem_dexc = float(parts[0])\n",
    "            aem_dexc = float(parts[1])\n",
    "            E = float(parts[2])\n",
    "            values.append([dem_dexc, aem_dexc, E])\n",
    "    \n",
    "    return np.array(values)\n",
    "\n",
    "folder_path = 'SRP_proximal_length/oligo/kinetics'  # Path containing the txt files\n",
    "output_dir = folder_path + '/output'\n",
    "os.makedirs(output_dir, exist_ok=True)\n",
    "\n",
    "file_paths = glob.glob(os.path.join(folder_path, '*.txt'))\n",
    "file_paths.sort()\n",
    "array_list = []\n",
    "file_names = []\n",
    "\n",
    "for file_path in tqdm(file_paths):\n",
    "    values_2d = extract_values_from_file(file_path)\n",
    "    array_list.append(values_2d)\n",
    "    file_names.append(os.path.basename(file_path))  # Store the file name\n",
    "\n",
    "data_3d = np.array(array_list)  # Convert the list of 2D arrays to a 3D numpy array\n",
    "# Print the shape of the 3D array to verify\n",
    "print(data_3d.shape)\n",
    "\n",
    "\n",
    "# Save the file names to a pandas DataFrame and export it\n",
    "file_names_df = pd.DataFrame(file_names, columns=['FileName'])\n",
    "\n",
    "\n",
    "\n",
    "\n",
    "# Save the 3D array to a file\n",
    "#np.save(output_dir + '/FRET_raw.npy', data_3d) # Save the 3D array to a file"
   ]
  },
  {
   "cell_type": "code",
   "execution_count": 3,
   "metadata": {},
   "outputs": [],
   "source": [
    "# load np file if needed\n",
    "#data_3d = np.load(output_dir + '/FRET_raw.npy') # change the path if needed\n",
    "\n",
    "def normalize(matrix, axis=1, new_min=0, new_max=1):\n",
    "    # Extract min and max along the specified axis, keeping dimensions for broadcasting\n",
    "    arr_min = np.min(matrix, axis=axis, keepdims=True)\n",
    "    arr_max = np.max(matrix, axis=axis, keepdims=True)\n",
    "    \n",
    "    # Prevent division by zero\n",
    "    scale = arr_max - arr_min\n",
    "    scale[scale == 0] = 1  # Prevent division by zero (if max equals min)\n",
    "\n",
    "    # Normalize along the specified axis\n",
    "    normalized = (matrix - arr_min) / scale  # Scale to [0, 1]\n",
    "    scaled = normalized * (new_max - new_min) + new_min  # Scale to [new_min, new_max]\n",
    "    \n",
    "    return scaled\n",
    "\n",
    "\n",
    "# Apply Butterworth low-pass filter\n",
    "def apply_low_pass_filter(data_column):\n",
    "    b, a = butter(N=5, Wn=cutoff_frequency, btype='low')\n",
    "    filtered_data = filtfilt(b, a, data_column)\n",
    "    return filtered_data\n",
    "\n",
    "\n",
    "def apply_low_pass_filter_3d(data, cutoff_frequency, axis=1):\n",
    "    # Parameters for the Butterworth filter\n",
    "    N = 5  # Order of the filter\n",
    "    b, a = butter(N=N, Wn=cutoff_frequency, btype='low') # fs is the sampling frequency\n",
    "\n",
    "    # Initialize the filtered data array\n",
    "    filtered_data = np.zeros_like(data)\n",
    "    \n",
    "    # Apply the filter along the specified axis\n",
    "    if axis == 1:\n",
    "        for i in range(data.shape[0]):\n",
    "            for j in range(data.shape[2]):\n",
    "                filtered_data[i, :, j] = filtfilt(b, a, data[i, :, j])\n",
    "    return filtered_data\n",
    "\n",
    "\n",
    "\n",
    "def apply_low_pass_and_smooth_3d(data, cutoff_frequency, window_size, axis=1):\n",
    "    # Parameters for the Butterworth filter\n",
    "    N = 5  # Order of the filter\n",
    "    b, a = butter(N=N, Wn=cutoff_frequency, btype='low')  # fs is the sampling frequency\n",
    "\n",
    "    # Initialize the filtered and smoothed data array\n",
    "    filtered_data = np.zeros_like(data)\n",
    "    smoothed_data = np.zeros_like(data)\n",
    "    \n",
    "    # Apply the filter along the specified axis\n",
    "    if axis == 1:\n",
    "        for i in range(data.shape[0]):\n",
    "            for j in range(data.shape[2]):\n",
    "                filtered_row = filtfilt(b, a, data[i, :, j])\n",
    "                filtered_data[i, :, j] = filtered_row\n",
    "                # Apply Savitzky-Golay filter for smoothing\n",
    "                smoothed_data[i, :, j] = savgol_filter(filtered_row, window_size, 2)\n",
    "                \n",
    "    return smoothed_data\n",
    "\n",
    "\n",
    "# Parameters for the low-pass filter\n",
    "cutoff_frequency = 0.2  # Adjust the cutoff frequency as needed\n",
    "window_size = 3  # Adjust the window size for moving average or Savitzky-Golay filter\n",
    "\n",
    "data_norm = normalize(data_3d)\n",
    "data_norm_filtered = apply_low_pass_and_smooth_3d(data_norm, cutoff_frequency, window_size, axis=1)\n",
    "\n",
    "#np.save(output_dir + '/FRET_norm.npy', data_norm) # Save the 3D array to a file\n",
    "#np.save(output_dir + '/FRET_norm_filtered.npy', data_norm_filtered) # Save the 3D array to a file\n"
   ]
  },
  {
   "cell_type": "code",
   "execution_count": 4,
   "metadata": {},
   "outputs": [],
   "source": [
    "onnx_path = \"model2.onnx\" #path of the model\n",
    "session = ort.InferenceSession(onnx_path)\n",
    "\n",
    "input_name = session.get_inputs()[0].name\n",
    "input_data = data_norm.astype(np.float32) # 3D array\n",
    "\n",
    "outputs = session.run(None, {input_name: input_data})\n",
    "y_pred = outputs[0] # 3D array"
   ]
  },
  {
   "cell_type": "code",
   "execution_count": 5,
   "metadata": {},
   "outputs": [
    {
     "data": {
      "text/plain": [
       "((64, 800, 6), (64, 800, 3), (64, 800, 3), (64, 800, 3))"
      ]
     },
     "execution_count": 5,
     "metadata": {},
     "output_type": "execute_result"
    }
   ],
   "source": [
    "y_pred.shape, data_norm.shape, data_norm_filtered.shape, data_3d.shape"
   ]
  },
  {
   "cell_type": "code",
   "execution_count": 6,
   "metadata": {},
   "outputs": [],
   "source": [
    "E_FRET = data_3d[:, :, 2]\n",
    "E_FRET[E_FRET < 0] = 0   # Set elements less than 0 to 0\n",
    "E_FRET[E_FRET > 1] = 1   # Set elements greater than 1 to 1\n",
    "\n",
    "time = np.linspace(0.05, 0.05 * data_norm.shape[1], data_norm.shape[1])\n"
   ]
  },
  {
   "cell_type": "code",
   "execution_count": 11,
   "metadata": {},
   "outputs": [
    {
     "data": {
      "application/vnd.jupyter.widget-view+json": {
       "model_id": "fb05b29c974a4c7297bb24d8297c0008",
       "version_major": 2,
       "version_minor": 0
      },
      "text/plain": [
       "interactive(children=(IntSlider(value=31, description='i', max=63), Output()), _dom_classes=('widget-interact'…"
      ]
     },
     "metadata": {},
     "output_type": "display_data"
    },
    {
     "data": {
      "text/plain": [
       "<function __main__.update_plot1(i)>"
      ]
     },
     "execution_count": 11,
     "metadata": {},
     "output_type": "execute_result"
    }
   ],
   "source": [
    "\n",
    "def update_plot1(i):\n",
    "    plt.figure(figsize=(14, 10), dpi=300)\n",
    "    \n",
    "    # First subplot\n",
    "    plt.subplot(2, 1, 1)  # (rows, cols, index)\n",
    "    plt.plot(time, data_norm[i,:,0], color='lightgreen', alpha = 0.5)\n",
    "    plt.plot(time, data_norm[i,:,1], color='#FFAAAA', alpha = 0.5)\n",
    "    plt.plot(time, data_norm_filtered[i,:,1], label='A', color='red', alpha = 0.7)\n",
    "    plt.plot(time, data_norm_filtered[i,:,0], label='D', color='green', alpha = 0.7)\n",
    "    plt.plot(time, y_pred[i,:, 0], color = \"black\", label = \"dyn\", linewidth = 3)\n",
    "    plt.plot(time, y_pred[i,:, 1], color = \"brown\", label = \"static\", linewidth = 3)\n",
    "    plt.plot(time, y_pred[i,:, 2], color = \"fuchsia\", label = \"scrambled\")\n",
    "    plt.plot(time, y_pred[i,:, 3], color = \"blue\", label = \"noisy\")\n",
    "    \n",
    "    plt.plot(time, y_pred[i,:, 4], color = \"violet\", label = \"aggregate\")\n",
    "    plt.plot(time, y_pred[i,:, 5], color = \"orange\", label = \"bleached\")\n",
    "    plt.legend()\n",
    "    \n",
    "    plt.xlabel('T (s)')\n",
    "    plt.ylabel('Values')\n",
    "\n",
    "    plt.title(f\"{file_names_df.loc[i, 'FileName']}\")\n",
    "    plt.legend(loc='upper right', prop={'size': 8})\n",
    "    plt.grid()\n",
    "\n",
    "    # Second subplot (left y-axis for raw data, right y-axis for E)\n",
    "    ax1 = plt.subplot(2, 1, 2)  # (rows, cols, index)\n",
    "    ax1.plot(time, data_3d[i, :, 0], label='DemDexc (raw)', color='green')\n",
    "    ax1.plot(time, data_3d[i, :, 1], label='AemDexc (raw)', color='red')\n",
    "    ax1.set_xlabel('T (s)')\n",
    "    ax1.set_ylabel('Raw Intensity')\n",
    "    ax1.legend(loc='upper left')\n",
    "    ax1.grid()\n",
    "\n",
    "    ax2 = ax1.twinx()\n",
    "    ax2.plot(time, E_FRET[i, :], label='E', color='blue')\n",
    "    ax2.set_ylabel('E Intensity')\n",
    "    ax2.legend(loc='upper right')\n",
    "    ax2.grid()\n",
    "\n",
    "    plt.tight_layout()\n",
    "    plt.show()\n",
    "\n",
    "interact(update_plot1, i=(0, data_norm.shape[0] - 1, 1))\n"
   ]
  }
 ],
 "metadata": {
  "kernelspec": {
   "display_name": "Python 3 (ipykernel)",
   "language": "python",
   "name": "python3"
  },
  "language_info": {
   "codemirror_mode": {
    "name": "ipython",
    "version": 3
   },
   "file_extension": ".py",
   "mimetype": "text/x-python",
   "name": "python",
   "nbconvert_exporter": "python",
   "pygments_lexer": "ipython3",
   "version": "3.11.5"
  }
 },
 "nbformat": 4,
 "nbformat_minor": 4
}
