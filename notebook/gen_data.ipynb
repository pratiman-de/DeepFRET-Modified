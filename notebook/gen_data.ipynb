{
 "cells": [
  {
   "cell_type": "code",
   "execution_count": 1,
   "metadata": {},
   "outputs": [
    {
     "name": "stderr",
     "output_type": "stream",
     "text": [
      "/home/pratiman/.local/lib/python3.10/site-packages/tqdm/auto.py:21: TqdmWarning: IProgress not found. Please update jupyter and ipywidgets. See https://ipywidgets.readthedocs.io/en/stable/user_install.html\n",
      "  from .autonotebook import tqdm as notebook_tqdm\n",
      "2024-07-31 11:46:52.760233: I tensorflow/core/util/port.cc:113] oneDNN custom operations are on. You may see slightly different numerical results due to floating-point round-off errors from different computation orders. To turn them off, set the environment variable `TF_ENABLE_ONEDNN_OPTS=0`.\n",
      "2024-07-31 11:46:52.784832: E external/local_xla/xla/stream_executor/cuda/cuda_dnn.cc:9261] Unable to register cuDNN factory: Attempting to register factory for plugin cuDNN when one has already been registered\n",
      "2024-07-31 11:46:52.784853: E external/local_xla/xla/stream_executor/cuda/cuda_fft.cc:607] Unable to register cuFFT factory: Attempting to register factory for plugin cuFFT when one has already been registered\n",
      "2024-07-31 11:46:52.785666: E external/local_xla/xla/stream_executor/cuda/cuda_blas.cc:1515] Unable to register cuBLAS factory: Attempting to register factory for plugin cuBLAS when one has already been registered\n",
      "2024-07-31 11:46:52.790006: I tensorflow/core/platform/cpu_feature_guard.cc:182] This TensorFlow binary is optimized to use available CPU instructions in performance-critical operations.\n",
      "To enable the following instructions: AVX2 AVX512F AVX512_VNNI FMA, in other operations, rebuild TensorFlow with the appropriate compiler flags.\n",
      "2024-07-31 11:46:53.305321: W tensorflow/compiler/tf2tensorrt/utils/py_utils.cc:38] TF-TRT Warning: Could not find TensorRT\n"
     ]
    }
   ],
   "source": [
    "import numpy as np\n",
    "import lib.algorithms\n",
    "import lib.ml\n",
    "from datetime import datetime\n",
    "import os"
   ]
  },
  {
   "cell_type": "code",
   "execution_count": 7,
   "metadata": {},
   "outputs": [
    {
     "name": "stderr",
     "output_type": "stream",
     "text": [
      "  0%|          | 0/125.0 [00:00<?, ?it/s]           "
     ]
    },
    {
     "name": "stdout",
     "output_type": "stream",
     "text": [
      "Before balance:  {0.0, 1.0, 2.0, 3.0, 4.0, 5.0}\n",
      "After balance:   {0.0, 1.0, 2.0, 3.0, 4.0, 5.0}\n",
      "311148\n",
      "(192, 800, 3)\n",
      "(192, 800, 1)\n",
      "Generated 192 traces\n"
     ]
    },
    {
     "name": "stderr",
     "output_type": "stream",
     "text": [
      "\n"
     ]
    }
   ],
   "source": [
    "def main(\n",
    "    n_traces,\n",
    "    n_timesteps,\n",
    "    merge_state_labels,\n",
    "    labels_to_binary,\n",
    "    balance_classes,\n",
    "    outdir,\n",
    "    reduce_memory,\n",
    "):\n",
    "    \"\"\"\n",
    "    Parameters\n",
    "    ----------\n",
    "    n_traces:\n",
    "        Number of traces to generate\n",
    "    n_timesteps:\n",
    "        Length of each trace\n",
    "    merge_state_labels:\n",
    "        Whether to merge all HMM states above 2 into \"dynamic\", as the HMM\n",
    "        predictions don't work so well yet\n",
    "    labels_to_binary:\n",
    "        Whether to convert all labels to smFRET/not-smFRET (for each frame)\n",
    "    balance_classes:\n",
    "        Whether to balance classes based on the distribution of frame 1 (as\n",
    "        this changes over time due to bleaching)\n",
    "    outdir:\n",
    "        Output directory\n",
    "    \"\"\"\n",
    "   \n",
    "    X, matrices = lib.algorithms.generate_traces(\n",
    "        n_traces=int(n_traces),\n",
    "        state_means=(0.45, 0.7),\n",
    "        random_k_states_max=2,\n",
    "        min_state_diff=0.15,\n",
    "        D_lifetime=150,\n",
    "        A_lifetime=150,\n",
    "        blink_prob=0.3,\n",
    "        bleed_through=(0, 0.1),\n",
    "        aa_mismatch=(-0.35, 0.35),\n",
    "        trace_length=n_timesteps,\n",
    "        trans_prob=(0.0, 0.40),\n",
    "        noise=(0.1, 0.30),\n",
    "        trans_mat=None,\n",
    "        au_scaling_factor=1,\n",
    "        aggregation_prob=0.05,\n",
    "        max_aggregate_size=3,\n",
    "        null_fret_value=-1,\n",
    "        acceptable_noise=0.35,\n",
    "        S_range=(0.3, 0.7),\n",
    "        scramble_prob=0.25,\n",
    "        gamma_noise_prob=0.8,\n",
    "        falloff_lifetime=500,\n",
    "        falloff_prob=0.05,\n",
    "        merge_labels=False,\n",
    "        discard_unbleached=False,\n",
    "        progressbar_callback=None,\n",
    "        callback_every=1,\n",
    "        return_matrix=True,\n",
    "        run_headless_parallel=True,\n",
    "        scramble_decouple_prob=0.9,\n",
    "        reduce_memory=reduce_memory,\n",
    "        merge_state_labels=merge_state_labels,\n",
    "    )\n",
    "    \n",
    "    labels = X[\"label\"].values\n",
    "\n",
    "    if reduce_memory:\n",
    "        X = X[[\"D-Dexc-rw\", \"A-Dexc-rw\", \"A-Aexc-rw\"]].values\n",
    "    else:\n",
    "        X = X[[\"D-Dexc-rw\", \"A-Dexc-rw\", \"A-Aexc-rw\", \"E\", \"E_true\"]].values\n",
    "\n",
    "    if np.any(X == -1):\n",
    "        print(\n",
    "            \"Dataset contains negative E_true. Be careful if using this \"\n",
    "            \"for regression!\"\n",
    "        )\n",
    "\n",
    "    X, labels = lib.ml.preprocess_2d_timeseries_seq2seq(\n",
    "        X=X, y=labels, n_timesteps=n_timesteps\n",
    "    )\n",
    "    print(\"Before balance: \", set(labels.ravel()))\n",
    "    ext = False\n",
    "\n",
    "    if labels_to_binary:\n",
    "        labels = lib.ml.labels_to_binary(\n",
    "            labels, one_hot=False, to_ones=(4, 5, 6, 7, 8)\n",
    "        )\n",
    "        ext = \"_binary\"\n",
    "        print(\"After binarize \", set(labels.ravel()))\n",
    "\n",
    "    if balance_classes:\n",
    "        X, labels = lib.ml.balance_classes(\n",
    "            X, labels, exclude_label_from_limiting=0, frame=0\n",
    "        )\n",
    "        print(\"After balance:  \", set(labels.ravel()))\n",
    "\n",
    "    os.makedirs(outdir, exist_ok=True)\n",
    "    now = datetime.now().strftime(\"%d%H%M\")\n",
    "    data_id = np.array(int(now))\n",
    "    print(now)\n",
    "    np.save(outdir + \"/data_id.npy\", data_id)\n",
    "    np.save(outdir + \"/x_sim_\" + now + \".npy\", X)\n",
    "    np.save(outdir + \"/y_sim_\" + now + \".npy\", labels)\n",
    "\n",
    "\n",
    "    print(X.shape)\n",
    "    print(labels.shape)\n",
    "    print(\"Generated {} traces\".format(X.shape[0]))\n",
    "\n",
    "if __name__ == \"__main__\":\n",
    "    main(\n",
    "        n_traces=1000,\n",
    "        n_timesteps=800,\n",
    "        merge_state_labels=True,\n",
    "        balance_classes=True,\n",
    "        labels_to_binary=False,\n",
    "        reduce_memory=True,\n",
    "        outdir=\"data\",\n",
    "    )\n"
   ]
  }
 ],
 "metadata": {
  "kernelspec": {
   "display_name": "test2",
   "language": "python",
   "name": "python3"
  },
  "language_info": {
   "codemirror_mode": {
    "name": "ipython",
    "version": 3
   },
   "file_extension": ".py",
   "mimetype": "text/x-python",
   "name": "python",
   "nbconvert_exporter": "python",
   "pygments_lexer": "ipython3",
   "version": "3.10.12"
  }
 },
 "nbformat": 4,
 "nbformat_minor": 2
}
